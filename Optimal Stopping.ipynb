{
 "cells": [
  {
   "cell_type": "code",
   "execution_count": 5,
   "metadata": {
    "collapsed": true
   },
   "outputs": [],
   "source": [
    "import numpy as np\n",
    "import math\n",
    "import random\n",
    "import pandas as pd"
   ]
  },
  {
   "cell_type": "code",
   "execution_count": 33,
   "metadata": {
    "collapsed": false
   },
   "outputs": [
    {
     "name": "stdout",
     "output_type": "stream",
     "text": [
      "max seen 4930\n",
      "selected 4948\n",
      "ground truth 4948\n",
      ">>> sucessfully located global max\n"
     ]
    }
   ],
   "source": [
    "# generate sequence of data\n",
    "UPPER_BOUND = 5000\n",
    "NUM_PTS = 100\n",
    "choices = random.sample(range(UPPER_BOUND), NUM_PTS)\n",
    "ground_truth_max = max(choices)\n",
    "stop_idx = int(round((1 / math.e)*(len(choices)+1), 0))\n",
    "\n",
    "# identify threshold value\n",
    "seen_choices = choices[:stop_idx]\n",
    "max_seen = max(seen_choices)\n",
    "\n",
    "# go through remaining options; stop when we find a number greater than max_seen\n",
    "# if we dont see anything greater, keep the last seen\n",
    "unseen_choices = choices[stop_idx:]\n",
    "for i in unseen_choices:\n",
    "    selection = i\n",
    "    if i > max_seen:\n",
    "        break\n",
    "    else:\n",
    "        continue\n",
    "        \n",
    "print 'max seen', max_seen\n",
    "print 'selected', selection\n",
    "print 'ground truth', ground_truth_max\n",
    "\n",
    "if selection < ground_truth_max:\n",
    "    print '>>> failed to locate global max'\n",
    "else:\n",
    "    print '>>> sucessfully located global max'"
   ]
  },
  {
   "cell_type": "code",
   "execution_count": 22,
   "metadata": {
    "collapsed": false
   },
   "outputs": [
    {
     "data": {
      "text/plain": [
       "<matplotlib.lines.Line2D at 0x1084a20d0>"
      ]
     },
     "execution_count": 22,
     "metadata": {},
     "output_type": "execute_result"
    },
    {
     "data": {
      "image/png": "[encoded data removed]",
      "text/plain": [
       "<matplotlib.figure.Figure at 0x1081d0f90>"
      ]
     },
     "metadata": {},
     "output_type": "display_data"
    }
   ],
   "source": [
    "import matplotlib.pyplot as plt\n",
    "%matplotlib inline\n",
    "\n",
    "plt.scatter(range(NUM_PTS), choices)\n",
    "plt.axvline(stop_idx, c = 'b') # stop point\n",
    "plt.axvline(np.argmax(seen_choices), c = 'y') # max of seen\n",
    "plt.axvline(np.argmax(choices), c = 'g') # ground truth max\n",
    "plt.axvline(np.where(np.array(choices) == selection)[0][0], c = 'r') # selection"
   ]
  },
  {
   "cell_type": "markdown",
   "metadata": {
    "collapsed": true
   },
   "source": [
    "# simulate 1000 trials"
   ]
  },
  {
   "cell_type": "code",
   "execution_count": 25,
   "metadata": {
    "collapsed": true
   },
   "outputs": [],
   "source": [
    "def simulate():\n",
    "    # generate sequence of data\n",
    "    UPPER_BOUND = 5000\n",
    "    NUM_PTS = 100\n",
    "    choices = random.sample(range(UPPER_BOUND), NUM_PTS)\n",
    "    ground_truth_max = max(choices)\n",
    "    stop_idx = int(round((1 / math.e)*(len(choices)+1), 0))\n",
    "\n",
    "    # identify threshold value\n",
    "    seen_choices = choices[:stop_idx]\n",
    "    max_seen = max(seen_choices)\n",
    "\n",
    "    # go through remaining options; stop when we find a number greater than max_seen\n",
    "    # if we dont see anything greater, keep the last seen\n",
    "    unseen_choices = choices[stop_idx:]\n",
    "    for i in unseen_choices:\n",
    "        selection = i\n",
    "        if i > max_seen:\n",
    "            break\n",
    "        else:\n",
    "            continue\n",
    "\n",
    "    if selection < ground_truth_max:\n",
    "        return 'failed'\n",
    "    else:\n",
    "        return 'success'"
   ]
  },
  {
   "cell_type": "code",
   "execution_count": 32,
   "metadata": {
    "collapsed": false
   },
   "outputs": [
    {
     "data": {
      "text/plain": [
       "failed     631\n",
       "success    369\n",
       "dtype: int64"
      ]
     },
     "execution_count": 32,
     "metadata": {},
     "output_type": "execute_result"
    }
   ],
   "source": [
    "simulations = pd.Series([simulate() for i in range(1000)])\n",
    "simulations.value_counts()"
   ]
  },
  {
   "cell_type": "code",
   "execution_count": null,
   "metadata": {
    "collapsed": true
   },
   "outputs": [],
   "source": []
  }
 ],
 "metadata": {
  "kernelspec": {
   "display_name": "Python 2",
   "language": "python",
   "name": "python2"
  },
  "language_info": {
   "codemirror_mode": {
    "name": "ipython",
    "version": 2
   },
   "file_extension": ".py",
   "mimetype": "text/x-python",
   "name": "python",
   "nbconvert_exporter": "python",
   "pygments_lexer": "ipython2",
   "version": "2.7.11"
  }
 },
 "nbformat": 4,
 "nbformat_minor": 0
}
